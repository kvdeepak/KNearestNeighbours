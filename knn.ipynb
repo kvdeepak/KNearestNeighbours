{
 "cells": [
  {
   "cell_type": "code",
   "execution_count": null,
   "metadata": {},
   "outputs": [],
   "source": [
    "import os\n",
    "import struct\n",
    "import numpy as np\n",
    "import matplotlib as mpl\n",
    "import scipy as sp\n",
    "import scipy.sparse\n",
    "from matplotlib import pyplot\n",
    "\n",
    "#Function to read from MNIST data\n",
    "def read(dataset = \"training\", path = \".\"):\n",
    "    if dataset is \"training\":\n",
    "        fname_img = os.path.join(path, 'train-images.idx3-ubyte')\n",
    "        fname_lbl = os.path.join(path, 'train-labels.idx1-ubyte')\n",
    "    elif dataset is \"testing\":\n",
    "        fname_img = os.path.join(path, 't10k-images.idx3-ubyte')\n",
    "        fname_lbl = os.path.join(path, 't10k-labels.idx1-ubyte')\n",
    "    else:\n",
    "        raise ValueError(\"dataset must be 'testing' or 'training'\")\n",
    "\n",
    "    # Load everything in some numpy arrays\n",
    "    with open(fname_lbl, 'rb') as flbl:\n",
    "        _, _ = struct.unpack(\">II\", flbl.read(8))\n",
    "        lbl = np.fromfile(flbl, dtype=np.int8)\n",
    "\n",
    "    with open(fname_img, 'rb') as fimg:\n",
    "        _, num, rows, cols = struct.unpack(\">IIII\", fimg.read(16))\n",
    "        img = np.fromfile(fimg, dtype=np.uint8).reshape(len(lbl), rows, cols)\n",
    "\n",
    "    return (lbl, img)\n",
    "\n",
    "#Function to display image\n",
    "def show(image):\n",
    "    \"\"\"\n",
    "    Render a given numpy.uint8 2D array of pixel data.\n",
    "    \"\"\"\n",
    "    fig = pyplot.figure()\n",
    "    ax = fig.add_subplot(1,1,1)\n",
    "    imgplot = ax.imshow(image, cmap=mpl.cm.Greys)\n",
    "    imgplot.set_interpolation('nearest')\n",
    "    ax.xaxis.set_ticks_position('top')\n",
    "    ax.yaxis.set_ticks_position('left')\n",
    "    pyplot.show()"
   ]
  },
  {
   "cell_type": "code",
   "execution_count": 1,
   "metadata": {},
   "outputs": [],
   "source": [
    "#Reading Training Data and Test Data\n",
    "[trainLabels,trainSet]=read(dataset = \"training\", path = \".\")\n",
    "[testLabels,testSet]=read(dataset = \"testing\", path = \".\")\n",
    "\n",
    "#Preprocessing Training Data and Test Data:\n",
    "# 1- Changing shape of each sample data from 28*28 to 1*784\n",
    "# 2- Dividing each pixel magnitude in sampe by 255\n",
    "trainVec=np.zeros(shape=(len(trainSet),784),dtype=float)\n",
    "testVec=np.zeros(shape=(len(testSet),784),dtype=float)\n",
    "\n",
    "for i in range(len(trainSet)):\n",
    "    trainVec[i]=np.reshape(trainSet[i]/255,(1,784))\n",
    "for i in range(len(testSet)):\n",
    "    testVec[i]=np.reshape(testSet[i]/255,(1,784))"
   ]
  },
  {
   "cell_type": "code",
   "execution_count": null,
   "metadata": {},
   "outputs": [],
   "source": [
    "#Making a list of list of class labels of 100 closest samples from training set\n",
    "#for each element in the test set in a sorted manner . The first element in the\n",
    "#list for a given test sampe is the class label of the closestsample in the \n",
    "#training sample to it.\n",
    "\n",
    "hundredClosestClasses=list()\n",
    "k=100\n",
    "for i in range(len(testLabels)):\n",
    "    normDistances=np.linalg.norm(trainVec-testVec[i],axis=1)\n",
    "    idx=np.argpartition(normDistances,k)\n",
    "    sortedMinVals=np.argsort(normDistances[idx[:k]])\n",
    "    hundredClosestClasses.append(trainLabels[idx[sortedMinVals]])\n",
    "\n",
    "#Storing this data\n",
    "#dill.dump_session('knn_class_labels.db')"
   ]
  },
  {
   "cell_type": "code",
   "execution_count": 3,
   "metadata": {},
   "outputs": [],
   "source": [
    "#Loading data\n",
    "#dill.load_session('knn_class_labels.db')\n",
    "\n",
    "#Function that returns the mode of an array (term with highest frequency)\n",
    "def mode(x):\n",
    "    values, counts = np.unique(x, return_counts=True)\n",
    "    m = counts.argmax()\n",
    "    return values[m]\n",
    "\n",
    "K=[1, 3, 5, 10, 30, 50, 70, 80, 90, 100]\n",
    "Accuracy=list()\n",
    "for k in K:\n",
    "    count=0\n",
    "    for i in range(len(testLabels)):\n",
    "        predictedClass=mode(hundredClosestClasses[i][:k])\n",
    "        if(predictedClass==testLabels[i]):\n",
    "            count=count+1\n",
    "    Accuracy.append(count/len(testLabels))\n"
   ]
  },
  {
   "cell_type": "code",
   "execution_count": 4,
   "metadata": {
    "scrolled": false
   },
   "outputs": [
    {
     "data": {
      "image/png": "[encoded data removed]",
      "text/plain": [
       "<Figure size 432x288 with 1 Axes>"
      ]
     },
     "metadata": {
      "needs_background": "light"
     },
     "output_type": "display_data"
    }
   ],
   "source": [
    "pyplot.plot(K,Accuracy,marker='o')\n",
    "pyplot.ylabel('Accuracy')\n",
    "pyplot.xlabel('Number of Neighbours')\n",
    "pyplot.savefig('knn_plot.png', bbox_inches='tight')"
   ]
  },
  {
   "cell_type": "code",
   "execution_count": 6,
   "metadata": {},
   "outputs": [
    {
     "name": "stdout",
     "output_type": "stream",
     "text": [
      "K \t Accuracy\n",
      "1 \t 0.9691\n",
      "3 \t 0.9705\n",
      "5 \t 0.9688\n",
      "10 \t 0.9665\n",
      "30 \t 0.9596\n",
      "50 \t 0.9534\n",
      "70 \t 0.9487\n",
      "80 \t 0.9468\n",
      "90 \t 0.9452\n",
      "100 \t 0.944\n"
     ]
    }
   ],
   "source": [
    "print(\"K \\t Accuracy\")\n",
    "for k in range(len(K)):\n",
    "    print(str(K[k])+\" \\t \"+str(Accuracy[k]))"
   ]
  }
 ],
 "metadata": {
  "kernelspec": {
   "display_name": "Python 3",
   "language": "python",
   "name": "python3"
  },
  "language_info": {
   "codemirror_mode": {
    "name": "ipython",
    "version": 3
   },
   "file_extension": ".py",
   "mimetype": "text/x-python",
   "name": "python",
   "nbconvert_exporter": "python",
   "pygments_lexer": "ipython3",
   "version": "3.6.6"
  }
 },
 "nbformat": 4,
 "nbformat_minor": 2
}
